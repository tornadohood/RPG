{
 "cells": [
  {
   "cell_type": "code",
   "execution_count": null,
   "metadata": {},
   "outputs": [
    {
     "name": "stdout",
     "output_type": "stream",
     "text": [
      "An enemy Dragon appears...\n",
      "\n",
      "what move would you like to make? (punch, kick or headbutt?\n",
      "\n"
     ]
    }
   ],
   "source": [
    "import random, time\n",
    "\n",
    "player_health = 100\n",
    "\n",
    "class Enemy:\n",
    "\n",
    "    def __init__(self, name, strength, defense, health):\n",
    "        self.name = name\n",
    "        self.strength = strength\n",
    "        self.defense = defense\n",
    "        self.health = health\n",
    "\n",
    "    def attack_enemy(self):\n",
    "        time.sleep(1)\n",
    "        print (\"what move would you like to make? (punch, kick or headbutt?\")\n",
    "        print(\"\")\n",
    "        answer = input()\n",
    "\n",
    "        if answer == \"punch\":\n",
    "            self.health = self.health -     (random.randint(1,100)/(random.uniform(0,1)*     self.defense))\n",
    "            self.health = int(self.health)\n",
    "        elif answer == \"kick\":\n",
    "            self.health = self.health - (random.randint(1,100)/(random.uniform(0,1)* self.defense))\n",
    "            self.health = int(self.health)\n",
    "        elif answer == \"headbutt\":\n",
    "            self.health = self.health -   (random.randint(1,100)/(random.uniform(0,1)* self.defense))\n",
    "            self.health = int(self.health)\n",
    "        else:\n",
    "            print(\"you stumble...\")\n",
    "\n",
    "        time.sleep(1)\n",
    "\n",
    "        print (self.name + \"'s health is now: \" + str(int(self.health)))\n",
    "        print(\"\")\n",
    "\n",
    "        return int(self.health)\n",
    "\n",
    "    def enemy_attack(self):\n",
    "        global player_health\n",
    "        time.sleep(1)\n",
    "        print (\"The enemy \" + self.name + \" \" + \"attacks...\")\n",
    "        print(\"\")\n",
    "        player_health = player_health - (self.strength * random.uniform(0.1, 1.4))\n",
    "        player_health = int(player_health)\n",
    "        time.sleep(1)\n",
    "        print (\"Your health is now \" + str(int(player_health)))\n",
    "        print (\"\")\n",
    "        return int(player_health)\n",
    "\n",
    "    def battle_script(self):\n",
    "        global player_health\n",
    "        print (\"An enemy \" + self.name + \" appears...\")\n",
    "        print (\"\")\n",
    "        time.sleep(1)\n",
    "        while player_health > 0 and self.health > 0:\n",
    "            self.attack_enemy()\n",
    "            if self.health <=0:\n",
    "               break\n",
    "            self.enemy_attack()\n",
    "            if player_health <=0:\n",
    "                break\n",
    "        if self.health <= 0:\n",
    "            time.sleep(1)\n",
    "            print (\"You have killed the \" + self.name)\n",
    "\n",
    "        if player_health <= 0:\n",
    "            time.sleep(1)\n",
    "            print (\"Sorry, you are dead\")\n",
    "\n",
    "\n",
    "enemies = [Enemy(\"Boar\", 10, 5, 100), Enemy(\"Wolf\", 20, 10, 100), Enemy(\"Lion\", 30, 20, 100), Enemy (\"Dragon\", 40, 30, 130)]\n",
    "\n",
    "random_enemy = random.choice(enemies) \n",
    "random_enemy.battle_script()"
   ]
  },
  {
   "cell_type": "code",
   "execution_count": null,
   "metadata": {},
   "outputs": [],
   "source": []
  }
 ],
 "metadata": {
  "kernelspec": {
   "display_name": "Python 3",
   "language": "python",
   "name": "python3"
  },
  "language_info": {
   "codemirror_mode": {
    "name": "ipython",
    "version": 3
   },
   "file_extension": ".py",
   "mimetype": "text/x-python",
   "name": "python",
   "nbconvert_exporter": "python",
   "pygments_lexer": "ipython3",
   "version": "3.6.6"
  }
 },
 "nbformat": 4,
 "nbformat_minor": 2
}
